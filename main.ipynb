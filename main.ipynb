{
 "cells": [
  {
   "cell_type": "code",
   "execution_count": 1,
   "metadata": {},
   "outputs": [
    {
     "name": "stderr",
     "output_type": "stream",
     "text": [
      "[nltk_data] Downloading package punkt to\n",
      "[nltk_data]     C:\\Users\\Ananda\\AppData\\Roaming\\nltk_data...\n",
      "[nltk_data]   Package punkt is already up-to-date!\n",
      "[nltk_data] Downloading package stopwords to\n",
      "[nltk_data]     C:\\Users\\Ananda\\AppData\\Roaming\\nltk_data...\n",
      "[nltk_data]   Package stopwords is already up-to-date!\n"
     ]
    },
    {
     "data": {
      "text/plain": [
       "<torch._C.Generator at 0x23c8d517310>"
      ]
     },
     "execution_count": 1,
     "metadata": {},
     "output_type": "execute_result"
    }
   ],
   "source": [
    "import torch\n",
    "import pandas as pd\n",
    "import numpy as np\n",
    "import nltk \n",
    "nltk.download('punkt')\n",
    "nltk.download('stopwords')\n",
    "from nltk.corpus import stopwords as sw\n",
    "from nltk.tokenize import word_tokenize\n",
    "from nltk.tokenize import RegexpTokenizer\n",
    "tokenizer = RegexpTokenizer(pattern=r\"\\s|[\\,']\", gaps=True)\n",
    "import re \n",
    "import torch\n",
    "import torch.autograd as autograd\n",
    "import torch.nn as nn\n",
    "import torch.optim as optim\n",
    "from sklearn.metrics import classification_report\n",
    "import gensim.downloader as api\n",
    "from gensim.models import Word2Vec\n",
    "\n",
    "torch.manual_seed(1)"
   ]
  },
  {
   "cell_type": "markdown",
   "metadata": {},
   "source": [
    "# Load Dataset"
   ]
  },
  {
   "cell_type": "code",
   "execution_count": 2,
   "metadata": {},
   "outputs": [],
   "source": [
    "train = pd.read_csv(\"train.csv\", header = 0)\n",
    "test = pd.read_csv(\"test_without_labels.csv\", header = 0)\n",
    "val = pd.read_csv(\"val.csv\", header = 0)\n",
    "\n",
    "train_sent = train['sents'].tolist()\n",
    "train_labels = train['labels'].tolist()\n",
    "\n",
    "test_sent = test['sents'].tolist()\n",
    "\n",
    "val_sent = val['sents'].tolist()\n",
    "val_labels = val['labels'].tolist()"
   ]
  },
  {
   "cell_type": "markdown",
   "metadata": {},
   "source": [
    "# Preprocessing"
   ]
  },
  {
   "cell_type": "markdown",
   "metadata": {},
   "source": [
    "## Lower-Case"
   ]
  },
  {
   "cell_type": "code",
   "execution_count": 3,
   "metadata": {},
   "outputs": [],
   "source": [
    "train_sent = [x.lower() for x in train_sent]\n",
    "test_sent = [x.lower() for x in test_sent]\n",
    "val_sent = [x.lower() for x in val_sent]"
   ]
  },
  {
   "cell_type": "markdown",
   "metadata": {},
   "source": [
    "# Tokenize"
   ]
  },
  {
   "cell_type": "code",
   "execution_count": 4,
   "metadata": {},
   "outputs": [],
   "source": [
    "train_sent_token = [tokenizer.tokenize(s) for s in train_sent]\n",
    "train_labels_token = [tokenizer.tokenize(s) for s in train_labels]\n",
    "test_sent_token = [tokenizer.tokenize(s) for s in test_sent]\n",
    "val_sent_token = [tokenizer.tokenize(s) for s in val_sent]\n",
    "val_labels_token = [tokenizer.tokenize(s) for s in val_labels]"
   ]
  },
  {
   "cell_type": "markdown",
   "metadata": {},
   "source": [
    "# Generate Word and Tag Index"
   ]
  },
  {
   "cell_type": "code",
   "execution_count": 5,
   "metadata": {},
   "outputs": [],
   "source": [
    "word_to_ix = {}\n",
    "for sentence in train_sent_token+val_sent_token+test_sent_token:\n",
    "    for word in sentence:\n",
    "        if word not in word_to_ix:\n",
    "            word_to_ix[word] = len(word_to_ix)\n",
    "word_list = list(word_to_ix.keys())\n",
    "\n",
    "START_TAG = \"<START>\"\n",
    "STOP_TAG = \"<STOP>\"\n",
    "tag_to_ix = {START_TAG:0, STOP_TAG:1}\n",
    "for tags in train_labels_token+val_labels_token:\n",
    "    for tag in tags:\n",
    "        if tag not in tag_to_ix:\n",
    "            tag_to_ix[tag] = len(tag_to_ix)"
   ]
  },
  {
   "cell_type": "markdown",
   "metadata": {},
   "source": [
    "## Create index tokens"
   ]
  },
  {
   "cell_type": "code",
   "execution_count": 6,
   "metadata": {},
   "outputs": [],
   "source": [
    "def to_index(sent, to_ix):\n",
    "    input_index_list = []\n",
    "    for word in sent:\n",
    "        input_index_list.append([to_ix[w] for w in word])\n",
    "    return input_index_list\n",
    "\n",
    "train_input_index =  to_index(train_sent_token,word_to_ix)\n",
    "train_output_index = to_index(train_labels_token,tag_to_ix)\n",
    "val_input_index = to_index(val_sent_token,word_to_ix)\n",
    "val_output_index = to_index(val_labels_token,tag_to_ix)\n",
    "test_input_index = to_index(test_sent_token,word_to_ix)"
   ]
  },
  {
   "cell_type": "markdown",
   "metadata": {},
   "source": [
    "# Embedding"
   ]
  },
  {
   "cell_type": "markdown",
   "metadata": {},
   "source": [
    "## Aspect 1: Syntatic Feature (PoS Tagging, Dependancy Path, etc)"
   ]
  },
  {
   "cell_type": "code",
   "execution_count": 7,
   "metadata": {},
   "outputs": [],
   "source": [
    "patterns = [\n",
    "        (r'.*ing$', 'VBG'),               # gerunds\n",
    "        (r'.*ed$', 'VBD'),                # simple past\n",
    "        (r'.*es$', 'VBZ'),                # 3rd singular present\n",
    "        (r'.*ould$', 'MD'),               # modals\n",
    "        (r'.*\\'s$', 'NN$'),               # possessive nouns\n",
    "        (r'.*s$', 'NNS'),                 # plural nouns\n",
    "        (r'^-?[0-9]+(.[0-9]+)?$', 'CD'),  # cardinal numbers\n",
    "        (r'.*', 'NN')                     # nouns (default)\n",
    "]\n",
    "\n",
    "regexp_tagger = nltk.RegexpTagger(patterns)\n",
    "\n",
    "pos_tag = []\n",
    "\n",
    "for token in train_sent_token+val_sent_token+test_sent_token:\n",
    "    tagged = regexp_tagger.tag(token)\n",
    "    pos_tag.append(tagged)"
   ]
  },
  {
   "cell_type": "markdown",
   "metadata": {},
   "source": [
    "## Aspect 2: Semantic Textual Feature (Word2Vec)"
   ]
  },
  {
   "cell_type": "markdown",
   "metadata": {},
   "source": [
    "#### Word2Vec with dataset"
   ]
  },
  {
   "cell_type": "markdown",
   "metadata": {},
   "source": [
    "###### Word2Vec only"
   ]
  },
  {
   "cell_type": "code",
   "execution_count": 7,
   "metadata": {},
   "outputs": [
    {
     "data": {
      "text/plain": [
       "(11242, 100)"
      ]
     },
     "execution_count": 7,
     "metadata": {},
     "output_type": "execute_result"
    }
   ],
   "source": [
    "embed_train_sent = train_sent_token+val_sent_token+test_sent_token\n",
    "\n",
    "word_set = set()\n",
    "\n",
    "for paragraph in embed_train_sent:\n",
    "  for words in paragraph:\n",
    "    word_set.add(words)\n",
    "\n",
    "word_list = list(word_set)\n",
    "word_list.sort()\n",
    "\n",
    "word_index = {}\n",
    "ind = 0\n",
    "for word in word_list:\n",
    "  word_index[word] = ind\n",
    "  ind += 1\n",
    "\n",
    "\n",
    "word2vec_emb_model = Word2Vec(sentences=embed_train_sent, window=5, min_count=5, workers=2, sg=0)\n",
    "\n",
    "\n",
    "emb_dim = word2vec_emb_model.vector_size\n",
    "EMBEDDING_DIM = word2vec_emb_model.vector_size\n",
    "embedding_matrix = []\n",
    "\n",
    "for word in word_list:\n",
    "    try:\n",
    "        embedding_matrix.append(word2vec_emb_model.wv[word])\n",
    "    except:\n",
    "        embedding_matrix.append([0]*EMBEDDING_DIM)\n",
    "embedding_matrix = np.array(embedding_matrix)\n",
    "embedding_matrix.shape"
   ]
  },
  {
   "cell_type": "markdown",
   "metadata": {},
   "source": [
    "###### Word2Vac concat with POS tag"
   ]
  },
  {
   "cell_type": "code",
   "execution_count": 8,
   "metadata": {},
   "outputs": [
    {
     "data": {
      "text/plain": [
       "(11242, 100)"
      ]
     },
     "execution_count": 8,
     "metadata": {},
     "output_type": "execute_result"
    }
   ],
   "source": [
    "import gensim.downloader as api\n",
    "\n",
    "embed_train_sent = pos_tag\n",
    "\n",
    "word_set = set()\n",
    "\n",
    "for paragraph in embed_train_sent:\n",
    "  for words in paragraph:\n",
    "    word_set.add(words)\n",
    "\n",
    "word_list = list(word_set)\n",
    "word_list.sort()\n",
    "\n",
    "word_index = {}\n",
    "ind = 0\n",
    "for word in word_list:\n",
    "  word_index[word] = ind\n",
    "  ind += 1\n",
    "\n",
    "from gensim.models import Word2Vec\n",
    "\n",
    "word2vec_emb_model = Word2Vec(sentences=embed_train_sent, window=5, min_count=5, workers=2, sg=0)\n",
    "\n",
    "import numpy as np\n",
    "emb_dim = word2vec_emb_model.vector_size\n",
    "EMBEDDING_DIM = word2vec_emb_model.vector_size\n",
    "embedding_matrix = []\n",
    "\n",
    "for word in word_list:\n",
    "    try:\n",
    "        embedding_matrix.append(word2vec_emb_model.wv[word])\n",
    "    except:\n",
    "        embedding_matrix.append([0]*EMBEDDING_DIM)\n",
    "embedding_matrix = np.array(embedding_matrix)\n",
    "embedding_matrix.shape"
   ]
  },
  {
   "cell_type": "markdown",
   "metadata": {},
   "source": [
    "## Aspect 3: Domain Feature (Dota Heroes List)"
   ]
  },
  {
   "cell_type": "code",
   "execution_count": 6,
   "metadata": {},
   "outputs": [
    {
     "data": {
      "text/html": [
       "<div>\n",
       "<style scoped>\n",
       "    .dataframe tbody tr th:only-of-type {\n",
       "        vertical-align: middle;\n",
       "    }\n",
       "\n",
       "    .dataframe tbody tr th {\n",
       "        vertical-align: top;\n",
       "    }\n",
       "\n",
       "    .dataframe thead th {\n",
       "        text-align: right;\n",
       "    }\n",
       "</style>\n",
       "<table border=\"1\" class=\"dataframe\">\n",
       "  <thead>\n",
       "    <tr style=\"text-align: right;\">\n",
       "      <th></th>\n",
       "      <th>id</th>\n",
       "      <th>name</th>\n",
       "      <th>localized_name</th>\n",
       "      <th>primary_attr</th>\n",
       "      <th>attack_type</th>\n",
       "      <th>roles</th>\n",
       "      <th>legs</th>\n",
       "    </tr>\n",
       "  </thead>\n",
       "  <tbody>\n",
       "    <tr>\n",
       "      <th>0</th>\n",
       "      <td>1</td>\n",
       "      <td>npc_dota_hero_antimage</td>\n",
       "      <td>Anti-Mage</td>\n",
       "      <td>agi</td>\n",
       "      <td>Melee</td>\n",
       "      <td>[Carry, Escape, Nuker]</td>\n",
       "      <td>2</td>\n",
       "    </tr>\n",
       "    <tr>\n",
       "      <th>1</th>\n",
       "      <td>2</td>\n",
       "      <td>npc_dota_hero_axe</td>\n",
       "      <td>Axe</td>\n",
       "      <td>str</td>\n",
       "      <td>Melee</td>\n",
       "      <td>[Initiator, Durable, Disabler, Jungler, Carry]</td>\n",
       "      <td>2</td>\n",
       "    </tr>\n",
       "    <tr>\n",
       "      <th>2</th>\n",
       "      <td>3</td>\n",
       "      <td>npc_dota_hero_bane</td>\n",
       "      <td>Bane</td>\n",
       "      <td>int</td>\n",
       "      <td>Ranged</td>\n",
       "      <td>[Support, Disabler, Nuker, Durable]</td>\n",
       "      <td>4</td>\n",
       "    </tr>\n",
       "    <tr>\n",
       "      <th>3</th>\n",
       "      <td>4</td>\n",
       "      <td>npc_dota_hero_bloodseeker</td>\n",
       "      <td>Bloodseeker</td>\n",
       "      <td>agi</td>\n",
       "      <td>Melee</td>\n",
       "      <td>[Carry, Disabler, Jungler, Nuker, Initiator]</td>\n",
       "      <td>2</td>\n",
       "    </tr>\n",
       "    <tr>\n",
       "      <th>4</th>\n",
       "      <td>5</td>\n",
       "      <td>npc_dota_hero_crystal_maiden</td>\n",
       "      <td>Crystal Maiden</td>\n",
       "      <td>int</td>\n",
       "      <td>Ranged</td>\n",
       "      <td>[Support, Disabler, Nuker, Jungler]</td>\n",
       "      <td>2</td>\n",
       "    </tr>\n",
       "  </tbody>\n",
       "</table>\n",
       "</div>"
      ],
      "text/plain": [
       "   id                          name  localized_name primary_attr attack_type  \\\n",
       "0   1        npc_dota_hero_antimage       Anti-Mage          agi       Melee   \n",
       "1   2             npc_dota_hero_axe             Axe          str       Melee   \n",
       "2   3            npc_dota_hero_bane            Bane          int      Ranged   \n",
       "3   4     npc_dota_hero_bloodseeker     Bloodseeker          agi       Melee   \n",
       "4   5  npc_dota_hero_crystal_maiden  Crystal Maiden          int      Ranged   \n",
       "\n",
       "                                            roles  legs  \n",
       "0                          [Carry, Escape, Nuker]     2  \n",
       "1  [Initiator, Durable, Disabler, Jungler, Carry]     2  \n",
       "2             [Support, Disabler, Nuker, Durable]     4  \n",
       "3    [Carry, Disabler, Jungler, Nuker, Initiator]     2  \n",
       "4             [Support, Disabler, Nuker, Jungler]     2  "
      ]
     },
     "execution_count": 6,
     "metadata": {},
     "output_type": "execute_result"
    }
   ],
   "source": [
    "heroes_df = pd.read_json('heroes.json')\n",
    "# heroes_df['sid'] = heroes_df.index\n",
    "# heroes_df['color'] = heroes_df.roles.map(color)\n",
    "# N_HEROES = len(heroes_df)\n",
    "heroes_df.head()"
   ]
  },
  {
   "cell_type": "code",
   "execution_count": 7,
   "metadata": {},
   "outputs": [],
   "source": [
    "list_heroes_names = heroes_df['localized_name'].tolist()"
   ]
  },
  {
   "cell_type": "code",
   "execution_count": 8,
   "metadata": {},
   "outputs": [
    {
     "data": {
      "text/plain": [
       "(14014, 100)"
      ]
     },
     "execution_count": 8,
     "metadata": {},
     "output_type": "execute_result"
    }
   ],
   "source": [
    "embed_train_sent = train_sent_token+val_sent_token+test_sent_token\n",
    "\n",
    "word_set = set()\n",
    "\n",
    "for paragraph in embed_train_sent:\n",
    "  for words in paragraph:\n",
    "    word_set.add(words)\n",
    "\n",
    "word_list = list(word_set)\n",
    "word_list.sort()\n",
    "\n",
    "word_index = {}\n",
    "ind = 0\n",
    "for word in word_list:\n",
    "  word_index[word] = ind\n",
    "  ind += 1\n",
    "\n",
    "\n",
    "word2vec_emb_model = Word2Vec(sentences=list_heroes_names, window=5, min_count=5, workers=2, sg=0)\n",
    "\n",
    "\n",
    "emb_dim = word2vec_emb_model.vector_size\n",
    "EMBEDDING_DIM = word2vec_emb_model.vector_size\n",
    "embedding_matrix = []\n",
    "\n",
    "for word in word_list:\n",
    "    try:\n",
    "        embedding_matrix.append(word2vec_emb_model.wv[word])\n",
    "    except:\n",
    "        embedding_matrix.append([0]*EMBEDDING_DIM)\n",
    "embedding_matrix = np.array(embedding_matrix)\n",
    "embedding_matrix.shape"
   ]
  },
  {
   "cell_type": "markdown",
   "metadata": {},
   "source": [
    "# Slot Filling/Tagging Model"
   ]
  },
  {
   "cell_type": "markdown",
   "metadata": {},
   "source": [
    "## Baseline model"
   ]
  },
  {
   "cell_type": "markdown",
   "metadata": {},
   "source": [
    "#### Model & Helper Functions"
   ]
  },
  {
   "cell_type": "code",
   "execution_count": 10,
   "metadata": {},
   "outputs": [],
   "source": [
    "## Helper Function\n",
    "\n",
    "def argmax(vec):\n",
    "    _, idx = torch.max(vec, 1)\n",
    "    return idx.item()\n",
    "\n",
    "\n",
    "def prepare_sequence(seq, to_ix):\n",
    "    idxs = [to_ix[w] for w in seq]\n",
    "    return torch.tensor(idxs, dtype=torch.long)\n",
    "\n",
    "\n",
    "\n",
    "def log_sum_exp(vec):\n",
    "    max_score = vec[0, argmax(vec)]\n",
    "    max_score_broadcast = max_score.view(1, -1).expand(1, vec.size()[1])\n",
    "    return max_score + \\\n",
    "        torch.log(torch.sum(torch.exp(vec - max_score_broadcast)))\n",
    "\n",
    "\n",
    "def cal_acc(model, input_index, output_index):\n",
    "  ground_truth = []\n",
    "  predicted = []\n",
    "\n",
    "  for i, index in enumerate(input_index):\n",
    "    ground_truth += output_index[i]\n",
    "\n",
    "    _, preds = model(torch.tensor(index, dtype=torch.long).to(device))\n",
    "\n",
    "    predicted += preds\n",
    "  accuracy = sum(np.array(ground_truth) == np.array(predicted))/len(ground_truth)\n",
    "\n",
    "\n",
    "  return predicted, ground_truth, accuracy"
   ]
  },
  {
   "cell_type": "markdown",
   "metadata": {},
   "source": [
    "#### Bi-LSTM CRF baseline Model with different embeddings"
   ]
  },
  {
   "cell_type": "code",
   "execution_count": 11,
   "metadata": {},
   "outputs": [],
   "source": [
    "def argmax(vec):\n",
    "    _, idx = torch.max(vec, 1)\n",
    "    return idx.item()\n",
    "\n",
    "\n",
    "def log_sum_exp(vec):\n",
    "    max_score = vec[0, argmax(vec)]\n",
    "    max_score_broadcast = max_score.view(1, -1).expand(1, vec.size()[1])\n",
    "    return max_score + \\\n",
    "        torch.log(torch.sum(torch.exp(vec - max_score_broadcast)))\n",
    "\n",
    "class BiLSTM_CRF(nn.Module):\n",
    "\n",
    "    def __init__(self, vocab_size, tag_to_ix, embedding_dim, hidden_dim):\n",
    "        super(BiLSTM_CRF, self).__init__()\n",
    "        self.embedding_dim = embedding_dim\n",
    "        self.hidden_dim = hidden_dim\n",
    "        self.vocab_size = vocab_size\n",
    "        self.tag_to_ix = tag_to_ix\n",
    "        self.tagset_size = len(tag_to_ix)\n",
    "\n",
    "        self.word_embeds = nn.Embedding(vocab_size, embedding_dim)\n",
    "        self.word_embeds.weight.data.copy_(torch.from_numpy(embedding_matrix))\n",
    "        self.lstm = nn.LSTM(embedding_dim, hidden_dim // 2,\n",
    "                            num_layers=1, bidirectional=True)\n",
    "\n",
    "\n",
    "        self.hidden2tag = nn.Linear(hidden_dim, self.tagset_size)\n",
    "\n",
    "        self.transitions = nn.Parameter(\n",
    "            torch.randn(self.tagset_size, self.tagset_size))\n",
    "\n",
    "        self.transitions.data[tag_to_ix[START_TAG], :] = -10000\n",
    "        self.transitions.data[:, tag_to_ix[STOP_TAG]] = -10000\n",
    "\n",
    "        self.hidden = self.init_hidden()\n",
    "\n",
    "    def init_hidden(self):\n",
    "        return (torch.randn(2, 1, self.hidden_dim // 2),\n",
    "                torch.randn(2, 1, self.hidden_dim // 2))\n",
    "\n",
    "    def _forward_alg(self, feats):\n",
    "\n",
    "        init_alphas = torch.full((1, self.tagset_size), -10000.)\n",
    "\n",
    "        init_alphas[0][self.tag_to_ix[START_TAG]] = 0.\n",
    "\n",
    "\n",
    "        forward_var = init_alphas\n",
    "\n",
    "        for feat in feats:\n",
    "            alphas_t = []  \n",
    "            for next_tag in range(self.tagset_size):\n",
    "                emit_score = feat[next_tag].view(\n",
    "                    1, -1).expand(1, self.tagset_size)\n",
    "                trans_score = self.transitions[next_tag].view(1, -1)\n",
    "                next_tag_var = forward_var + trans_score + emit_score\n",
    "                alphas_t.append(log_sum_exp(next_tag_var).view(1))\n",
    "            forward_var = torch.cat(alphas_t).view(1, -1)\n",
    "        terminal_var = forward_var + self.transitions[self.tag_to_ix[STOP_TAG]]\n",
    "        alpha = log_sum_exp(terminal_var)\n",
    "        return alpha\n",
    "\n",
    "    def _get_lstm_features(self, sentence):\n",
    "        self.hidden = self.init_hidden()\n",
    "        embeds = self.word_embeds(sentence).view(len(sentence), 1, -1)\n",
    "        lstm_out, self.hidden = self.lstm(embeds, self.hidden)\n",
    "        lstm_out = lstm_out.view(len(sentence), self.hidden_dim)\n",
    "        lstm_feats = self.hidden2tag(lstm_out)\n",
    "        return lstm_feats\n",
    "\n",
    "    def _score_sentence(self, feats, tags):\n",
    "        score = torch.zeros(1)\n",
    "        tags = torch.cat([torch.tensor([self.tag_to_ix[START_TAG]], dtype=torch.long), tags])\n",
    "        for i, feat in enumerate(feats):\n",
    "            score = score + \\\n",
    "                self.transitions[tags[i + 1], tags[i]] + feat[tags[i + 1]]\n",
    "        score = score + self.transitions[self.tag_to_ix[STOP_TAG], tags[-1]]\n",
    "        return score\n",
    "\n",
    "    def _viterbi_decode(self, feats):\n",
    "        backpointers = []\n",
    "        init_vvars = torch.full((1, self.tagset_size), -10000.)\n",
    "        init_vvars[0][self.tag_to_ix[START_TAG]] = 0\n",
    "        forward_var = init_vvars\n",
    "        for feat in feats:\n",
    "            bptrs_t = [] \n",
    "            viterbivars_t = []\n",
    "\n",
    "            for next_tag in range(self.tagset_size):\n",
    "                next_tag_var = forward_var + self.transitions[next_tag]\n",
    "                best_tag_id = argmax(next_tag_var)\n",
    "                bptrs_t.append(best_tag_id)\n",
    "                viterbivars_t.append(next_tag_var[0][best_tag_id].view(1))\n",
    "            forward_var = (torch.cat(viterbivars_t) + feat).view(1, -1)\n",
    "            backpointers.append(bptrs_t)\n",
    "\n",
    "        terminal_var = forward_var + self.transitions[self.tag_to_ix[STOP_TAG]]\n",
    "        best_tag_id = argmax(terminal_var)\n",
    "        path_score = terminal_var[0][best_tag_id]\n",
    "\n",
    "        best_path = [best_tag_id]\n",
    "        for bptrs_t in reversed(backpointers):\n",
    "            best_tag_id = bptrs_t[best_tag_id]\n",
    "            best_path.append(best_tag_id)\n",
    "        start = best_path.pop()\n",
    "        assert start == self.tag_to_ix[START_TAG]\n",
    "        best_path.reverse()\n",
    "        return path_score, best_path\n",
    "\n",
    "    def neg_log_likelihood(self, sentence, tags):\n",
    "        feats = self._get_lstm_features(sentence)\n",
    "        forward_score = self._forward_alg(feats)\n",
    "        gold_score = self._score_sentence(feats, tags)\n",
    "        return forward_score - gold_score\n",
    "\n",
    "    def forward(self, sentence):\n",
    "        lstm_feats = self._get_lstm_features(sentence)\n",
    "        score, tag_seq = self._viterbi_decode(lstm_feats)\n",
    "        return score, tag_seq"
   ]
  },
  {
   "cell_type": "markdown",
   "metadata": {},
   "source": [
    "#### Training and testing the model "
   ]
  },
  {
   "cell_type": "markdown",
   "metadata": {},
   "source": [
    "#### word2vec only"
   ]
  },
  {
   "cell_type": "code",
   "execution_count": 17,
   "metadata": {},
   "outputs": [
    {
     "name": "stdout",
     "output_type": "stream",
     "text": [
      "Epoch:1, Training loss: 127374.40, train acc: 0.6775\n",
      "Epoch:2, Training loss: 87147.43, train acc: 0.8131\n"
     ]
    }
   ],
   "source": [
    "import datetime\n",
    "\n",
    "device = torch.device(\"cuda\" if torch.cuda.is_available() else \"cpu\")\n",
    "HIDDEN_DIM = 100\n",
    "\n",
    "model = BiLSTM_CRF(len(word_to_ix), tag_to_ix, EMBEDDING_DIM, HIDDEN_DIM).to(device)\n",
    "optimizer = optim.SGD(model.parameters(), lr=0.001, weight_decay=1e-4)\n",
    "\n",
    "for epoch in range(2):  \n",
    "    time1 = datetime.datetime.now()\n",
    "    train_loss = 0\n",
    "\n",
    "    model.train()\n",
    "    for i, idxs in enumerate(train_input_index):\n",
    "        tags_index = train_output_index[i]\n",
    "\n",
    "        # Step 1. Remember that Pytorch accumulates gradients.\n",
    "        # We need to clear them out before each instance\n",
    "        model.zero_grad()\n",
    "\n",
    "        # Step 2. Get our inputs ready for the network, that is,\n",
    "        # turn them into Tensors of word indices.\n",
    "        sentence_in = torch.tensor(idxs, dtype=torch.long).to(device)\n",
    "        targets = torch.tensor(tags_index, dtype=torch.long).to(device)\n",
    "\n",
    "        # Step 3. Run our forward pass.\n",
    "        loss = model.neg_log_likelihood(sentence_in, targets)\n",
    "\n",
    "        # Step 4. Compute the loss, gradients, and update the parameters by\n",
    "        # calling optimizer.step()\n",
    "        loss.backward()\n",
    "        optimizer.step()\n",
    "\n",
    "        train_loss+=loss.item()\n",
    "\n",
    "    model.eval()\n",
    "\n",
    "    _, _, train_acc = cal_acc(model,train_input_index,train_output_index)\n",
    "\n",
    "    print(\"Epoch:%d, Training loss: %.2f, train acc: %.4f\" %(epoch+1, train_loss,train_acc))"
   ]
  },
  {
   "cell_type": "code",
   "execution_count": 18,
   "metadata": {},
   "outputs": [
    {
     "name": "stdout",
     "output_type": "stream",
     "text": [
      "              precision    recall  f1-score   support\n",
      "\n",
      "           C     0.5455    0.0037    0.0073      1641\n",
      "           D     0.0000    0.0000    0.0000       398\n",
      "           O     0.7986    0.9955    0.8862     18985\n",
      "           P     0.7500    0.6448    0.6934      3936\n",
      "           S     0.7666    0.6180    0.6843      3322\n",
      "        SEPA     0.9956    0.9981    0.9968      3603\n",
      "           T     0.5000    0.0014    0.0027      1469\n",
      "\n",
      "    accuracy                         0.8123     33354\n",
      "   macro avg     0.6223    0.4659    0.4673     33354\n",
      "weighted avg     0.7758    0.8123    0.7626     33354\n",
      "\n"
     ]
    },
    {
     "name": "stderr",
     "output_type": "stream",
     "text": [
      "c:\\Users\\Ananda\\anaconda3\\lib\\site-packages\\sklearn\\metrics\\_classification.py:1245: UndefinedMetricWarning: Precision and F-score are ill-defined and being set to 0.0 in labels with no predicted samples. Use `zero_division` parameter to control this behavior.\n",
      "  _warn_prf(average, modifier, msg_start, len(result))\n",
      "c:\\Users\\Ananda\\anaconda3\\lib\\site-packages\\sklearn\\metrics\\_classification.py:1245: UndefinedMetricWarning: Precision and F-score are ill-defined and being set to 0.0 in labels with no predicted samples. Use `zero_division` parameter to control this behavior.\n",
      "  _warn_prf(average, modifier, msg_start, len(result))\n",
      "c:\\Users\\Ananda\\anaconda3\\lib\\site-packages\\sklearn\\metrics\\_classification.py:1245: UndefinedMetricWarning: Precision and F-score are ill-defined and being set to 0.0 in labels with no predicted samples. Use `zero_division` parameter to control this behavior.\n",
      "  _warn_prf(average, modifier, msg_start, len(result))\n"
     ]
    }
   ],
   "source": [
    "y_pred, y_true, _ = cal_acc(model,val_input_index,val_output_index)\n",
    "\n",
    "def decode_output(output_list):\n",
    "    ix_to_tag = {v:k for k,v in tag_to_ix.items()}\n",
    "    return [ix_to_tag[output] for output in output_list]\n",
    "\n",
    "y_true_decode = decode_output(y_true)\n",
    "y_pred_decode = decode_output(y_pred)\n",
    "\n",
    "print(classification_report(y_true_decode,y_pred_decode,digits=4))"
   ]
  },
  {
   "cell_type": "code",
   "execution_count": 19,
   "metadata": {},
   "outputs": [],
   "source": [
    "torch.save(model, 'bilstm_crf_w2v.pt')\n",
    "\n",
    "model = torch.load('bilstm_crf_w2v.pt')"
   ]
  },
  {
   "cell_type": "markdown",
   "metadata": {},
   "source": [
    "#### word2vec on dataset and POS tag"
   ]
  },
  {
   "cell_type": "code",
   "execution_count": 12,
   "metadata": {},
   "outputs": [
    {
     "name": "stdout",
     "output_type": "stream",
     "text": [
      "Epoch:1, Training loss: 127977.05, train acc: 0.6776, val loss: 33864.08, val acc: 0.6798, time: 404.47s\n",
      "Epoch:2, Training loss: 87314.67, train acc: 0.8129, val loss: 21772.78, val acc: 0.8111, time: 405.23s\n"
     ]
    }
   ],
   "source": [
    "import datetime\n",
    "\n",
    "device = torch.device(\"cuda\" if torch.cuda.is_available() else \"cpu\")\n",
    "HIDDEN_DIM = 100\n",
    "\n",
    "model = BiLSTM_CRF(len(word_to_ix), tag_to_ix, EMBEDDING_DIM, HIDDEN_DIM).to(device)\n",
    "optimizer = optim.SGD(model.parameters(), lr=0.001, weight_decay=1e-4)\n",
    "\n",
    "for epoch in range(2):  \n",
    "    time1 = datetime.datetime.now()\n",
    "    train_loss = 0\n",
    "\n",
    "    model.train()\n",
    "    for i, idxs in enumerate(train_input_index):\n",
    "        tags_index = train_output_index[i]\n",
    "\n",
    "        # Step 1. Remember that Pytorch accumulates gradients.\n",
    "        # We need to clear them out before each instance\n",
    "        model.zero_grad()\n",
    "\n",
    "        # Step 2. Get our inputs ready for the network, that is,\n",
    "        # turn them into Tensors of word indices.\n",
    "        sentence_in = torch.tensor(idxs, dtype=torch.long).to(device)\n",
    "        targets = torch.tensor(tags_index, dtype=torch.long).to(device)\n",
    "\n",
    "        # Step 3. Run our forward pass.\n",
    "        loss = model.neg_log_likelihood(sentence_in, targets)\n",
    "\n",
    "        # Step 4. Compute the loss, gradients, and update the parameters by\n",
    "        # calling optimizer.step()\n",
    "        loss.backward()\n",
    "        optimizer.step()\n",
    "\n",
    "        train_loss+=loss.item()\n",
    "\n",
    "    model.eval()\n",
    "    # Call the cal_acc functions you implemented as required\n",
    "    _, _, train_acc = cal_acc(model,train_input_index,train_output_index)\n",
    "    _, _, val_acc = cal_acc(model,val_input_index,val_output_index)\n",
    "\n",
    "    val_loss = 0\n",
    "    for i, idxs in enumerate(val_input_index):\n",
    "        tags_index = val_output_index[i]\n",
    "        sentence_in = torch.tensor(idxs, dtype=torch.long).to(device)\n",
    "        targets = torch.tensor(tags_index, dtype=torch.long).to(device)\n",
    "        loss = model.neg_log_likelihood(sentence_in, targets)\n",
    "        val_loss+=loss.item()\n",
    "    time2 = datetime.datetime.now()\n",
    "\n",
    "    print(\"Epoch:%d, Training loss: %.2f, train acc: %.4f, val loss: %.2f, val acc: %.4f, time: %.2fs\" %(epoch+1, train_loss,train_acc, val_loss, val_acc, (time2-time1).total_seconds()))\n",
    "  "
   ]
  },
  {
   "cell_type": "code",
   "execution_count": 13,
   "metadata": {},
   "outputs": [
    {
     "name": "stdout",
     "output_type": "stream",
     "text": [
      "              precision    recall  f1-score   support\n",
      "\n",
      "           C     0.4000    0.0024    0.0048      1641\n",
      "           D     0.0000    0.0000    0.0000       398\n",
      "           O     0.8064    0.9963    0.8913     18985\n",
      "           P     0.7347    0.6634    0.6972      3936\n",
      "           S     0.7223    0.5756    0.6406      3322\n",
      "        SEPA     0.9737    0.9967    0.9851      3603\n",
      "           T     0.0000    0.0000    0.0000      1469\n",
      "\n",
      "    accuracy                         0.8105     33354\n",
      "   macro avg     0.5196    0.4620    0.4599     33354\n",
      "weighted avg     0.7425    0.8105    0.7601     33354\n",
      "\n"
     ]
    },
    {
     "name": "stderr",
     "output_type": "stream",
     "text": [
      "c:\\Users\\Ananda\\anaconda3\\lib\\site-packages\\sklearn\\metrics\\_classification.py:1245: UndefinedMetricWarning: Precision and F-score are ill-defined and being set to 0.0 in labels with no predicted samples. Use `zero_division` parameter to control this behavior.\n",
      "  _warn_prf(average, modifier, msg_start, len(result))\n",
      "c:\\Users\\Ananda\\anaconda3\\lib\\site-packages\\sklearn\\metrics\\_classification.py:1245: UndefinedMetricWarning: Precision and F-score are ill-defined and being set to 0.0 in labels with no predicted samples. Use `zero_division` parameter to control this behavior.\n",
      "  _warn_prf(average, modifier, msg_start, len(result))\n",
      "c:\\Users\\Ananda\\anaconda3\\lib\\site-packages\\sklearn\\metrics\\_classification.py:1245: UndefinedMetricWarning: Precision and F-score are ill-defined and being set to 0.0 in labels with no predicted samples. Use `zero_division` parameter to control this behavior.\n",
      "  _warn_prf(average, modifier, msg_start, len(result))\n"
     ]
    }
   ],
   "source": [
    "y_pred, y_true, _ = cal_acc(model,val_input_index,val_output_index)\n",
    "\n",
    "def decode_output(output_list):\n",
    "    ix_to_tag = {v:k for k,v in tag_to_ix.items()}\n",
    "    return [ix_to_tag[output] for output in output_list]\n",
    "\n",
    "y_true_decode = decode_output(y_true)\n",
    "y_pred_decode = decode_output(y_pred)\n",
    "\n",
    "print(classification_report(y_true_decode,y_pred_decode,digits=4))"
   ]
  },
  {
   "cell_type": "code",
   "execution_count": 14,
   "metadata": {},
   "outputs": [],
   "source": [
    "torch.save(model, 'bilstm_crf_w2v_pos.pt')\n",
    "\n",
    "model = torch.load('bilstm_crf_w2v_pos.pt')"
   ]
  },
  {
   "cell_type": "markdown",
   "metadata": {},
   "source": [
    "#### word2vec (heroes only)"
   ]
  },
  {
   "cell_type": "code",
   "execution_count": 12,
   "metadata": {},
   "outputs": [
    {
     "name": "stdout",
     "output_type": "stream",
     "text": [
      "Epoch:1, Training loss: 126924.80, train acc: 0.6748\n",
      "Epoch:2, Training loss: 97976.24, train acc: 0.7042\n"
     ]
    }
   ],
   "source": [
    "import datetime\n",
    "\n",
    "device = torch.device(\"cuda\" if torch.cuda.is_available() else \"cpu\")\n",
    "HIDDEN_DIM = 100\n",
    "\n",
    "model = BiLSTM_CRF(len(word_to_ix), tag_to_ix, EMBEDDING_DIM, HIDDEN_DIM).to(device)\n",
    "optimizer = optim.SGD(model.parameters(), lr=0.001, weight_decay=1e-4)\n",
    "\n",
    "for epoch in range(2):  \n",
    "    time1 = datetime.datetime.now()\n",
    "    train_loss = 0\n",
    "\n",
    "    model.train()\n",
    "    for i, idxs in enumerate(train_input_index):\n",
    "        tags_index = train_output_index[i]\n",
    "\n",
    "        # Step 1. Remember that Pytorch accumulates gradients.\n",
    "        # We need to clear them out before each instance\n",
    "        model.zero_grad()\n",
    "\n",
    "        # Step 2. Get our inputs ready for the network, that is,\n",
    "        # turn them into Tensors of word indices.\n",
    "        sentence_in = torch.tensor(idxs, dtype=torch.long).to(device)\n",
    "        targets = torch.tensor(tags_index, dtype=torch.long).to(device)\n",
    "\n",
    "        # Step 3. Run our forward pass.\n",
    "        loss = model.neg_log_likelihood(sentence_in, targets)\n",
    "\n",
    "        # Step 4. Compute the loss, gradients, and update the parameters by\n",
    "        # calling optimizer.step()\n",
    "        loss.backward()\n",
    "        optimizer.step()\n",
    "\n",
    "        train_loss+=loss.item()\n",
    "\n",
    "    model.eval()\n",
    "\n",
    "    _, _, train_acc = cal_acc(model,train_input_index,train_output_index)\n",
    "\n",
    "    print(\"Epoch:%d, Training loss: %.2f, train acc: %.4f\" %(epoch+1, train_loss,train_acc))"
   ]
  },
  {
   "cell_type": "code",
   "execution_count": 13,
   "metadata": {},
   "outputs": [
    {
     "name": "stdout",
     "output_type": "stream",
     "text": [
      "              precision    recall  f1-score   support\n",
      "\n",
      "           C     0.0000    0.0000    0.0000      1641\n",
      "           D     0.0000    0.0000    0.0000       398\n",
      "           O     0.6671    0.9952    0.7988     18985\n",
      "           P     0.5385    0.0640    0.1144      3936\n",
      "           S     0.8636    0.2477    0.3850      3322\n",
      "        SEPA     0.9961    0.9989    0.9975      3603\n",
      "           T     0.0000    0.0000    0.0000      1469\n",
      "\n",
      "    accuracy                         0.7066     33354\n",
      "   macro avg     0.4379    0.3294    0.3280     33354\n",
      "weighted avg     0.6369    0.7066    0.6143     33354\n",
      "\n"
     ]
    },
    {
     "name": "stderr",
     "output_type": "stream",
     "text": [
      "c:\\Users\\Ananda\\anaconda3\\lib\\site-packages\\sklearn\\metrics\\_classification.py:1245: UndefinedMetricWarning: Precision and F-score are ill-defined and being set to 0.0 in labels with no predicted samples. Use `zero_division` parameter to control this behavior.\n",
      "  _warn_prf(average, modifier, msg_start, len(result))\n",
      "c:\\Users\\Ananda\\anaconda3\\lib\\site-packages\\sklearn\\metrics\\_classification.py:1245: UndefinedMetricWarning: Precision and F-score are ill-defined and being set to 0.0 in labels with no predicted samples. Use `zero_division` parameter to control this behavior.\n",
      "  _warn_prf(average, modifier, msg_start, len(result))\n",
      "c:\\Users\\Ananda\\anaconda3\\lib\\site-packages\\sklearn\\metrics\\_classification.py:1245: UndefinedMetricWarning: Precision and F-score are ill-defined and being set to 0.0 in labels with no predicted samples. Use `zero_division` parameter to control this behavior.\n",
      "  _warn_prf(average, modifier, msg_start, len(result))\n"
     ]
    }
   ],
   "source": [
    "y_pred, y_true, _ = cal_acc(model,val_input_index,val_output_index)\n",
    "\n",
    "def decode_output(output_list):\n",
    "    ix_to_tag = {v:k for k,v in tag_to_ix.items()}\n",
    "    return [ix_to_tag[output] for output in output_list]\n",
    "\n",
    "y_true_decode = decode_output(y_true)\n",
    "y_pred_decode = decode_output(y_pred)\n",
    "\n",
    "print(classification_report(y_true_decode,y_pred_decode,digits=4))"
   ]
  },
  {
   "cell_type": "code",
   "execution_count": 15,
   "metadata": {},
   "outputs": [],
   "source": [
    "torch.save(model, 'bilstm_crf_w2v_dataset_heroes.pt')\n",
    "\n",
    "model = torch.load('bilstm_crf_w2v_dataset_heroes.pt')"
   ]
  }
 ],
 "metadata": {
  "interpreter": {
   "hash": "2db04e191085c925f35704d5645a1f5ec8c10b267e24c755d6661bdf1429d0eb"
  },
  "kernelspec": {
   "display_name": "Python 3.8.8 ('base')",
   "language": "python",
   "name": "python3"
  },
  "language_info": {
   "codemirror_mode": {
    "name": "ipython",
    "version": 3
   },
   "file_extension": ".py",
   "mimetype": "text/x-python",
   "name": "python",
   "nbconvert_exporter": "python",
   "pygments_lexer": "ipython3",
   "version": "3.8.8"
  },
  "orig_nbformat": 4
 },
 "nbformat": 4,
 "nbformat_minor": 2
}
